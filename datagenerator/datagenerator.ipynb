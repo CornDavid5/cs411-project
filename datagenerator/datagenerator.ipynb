{
 "cells": [
  {
   "cell_type": "markdown",
   "source": [
    "Download dataset from https://www.kaggle.com/sobhanmoosavi/us-weather-events\r\n",
    "extract the csv file and rename it to weather.csv\r\n",
    "run following code to explore the dataset"
   ],
   "metadata": {}
  },
  {
   "cell_type": "code",
   "execution_count": 130,
   "source": [
    "import pandas as pd\r\n",
    "import numpy as np\r\n",
    "import string\r\n",
    "import random\r\n",
    "import datetime"
   ],
   "outputs": [],
   "metadata": {}
  },
  {
   "cell_type": "code",
   "execution_count": 2,
   "source": [
    "weather = pd.read_csv(\"./weather.csv\")"
   ],
   "outputs": [],
   "metadata": {}
  },
  {
   "cell_type": "code",
   "execution_count": 3,
   "source": [
    "weather.head(5)"
   ],
   "outputs": [
    {
     "output_type": "execute_result",
     "data": {
      "text/html": [
       "<div>\n",
       "<style scoped>\n",
       "    .dataframe tbody tr th:only-of-type {\n",
       "        vertical-align: middle;\n",
       "    }\n",
       "\n",
       "    .dataframe tbody tr th {\n",
       "        vertical-align: top;\n",
       "    }\n",
       "\n",
       "    .dataframe thead th {\n",
       "        text-align: right;\n",
       "    }\n",
       "</style>\n",
       "<table border=\"1\" class=\"dataframe\">\n",
       "  <thead>\n",
       "    <tr style=\"text-align: right;\">\n",
       "      <th></th>\n",
       "      <th>EventId</th>\n",
       "      <th>Type</th>\n",
       "      <th>Severity</th>\n",
       "      <th>StartTime(UTC)</th>\n",
       "      <th>EndTime(UTC)</th>\n",
       "      <th>TimeZone</th>\n",
       "      <th>AirportCode</th>\n",
       "      <th>LocationLat</th>\n",
       "      <th>LocationLng</th>\n",
       "      <th>City</th>\n",
       "      <th>County</th>\n",
       "      <th>State</th>\n",
       "      <th>ZipCode</th>\n",
       "    </tr>\n",
       "  </thead>\n",
       "  <tbody>\n",
       "    <tr>\n",
       "      <th>0</th>\n",
       "      <td>W-1</td>\n",
       "      <td>Snow</td>\n",
       "      <td>Light</td>\n",
       "      <td>2016-01-06 23:14:00</td>\n",
       "      <td>2016-01-07 00:34:00</td>\n",
       "      <td>US/Mountain</td>\n",
       "      <td>K04V</td>\n",
       "      <td>38.0972</td>\n",
       "      <td>-106.1689</td>\n",
       "      <td>Saguache</td>\n",
       "      <td>Saguache</td>\n",
       "      <td>CO</td>\n",
       "      <td>81149.0</td>\n",
       "    </tr>\n",
       "    <tr>\n",
       "      <th>1</th>\n",
       "      <td>W-2</td>\n",
       "      <td>Snow</td>\n",
       "      <td>Light</td>\n",
       "      <td>2016-01-07 04:14:00</td>\n",
       "      <td>2016-01-07 04:54:00</td>\n",
       "      <td>US/Mountain</td>\n",
       "      <td>K04V</td>\n",
       "      <td>38.0972</td>\n",
       "      <td>-106.1689</td>\n",
       "      <td>Saguache</td>\n",
       "      <td>Saguache</td>\n",
       "      <td>CO</td>\n",
       "      <td>81149.0</td>\n",
       "    </tr>\n",
       "    <tr>\n",
       "      <th>2</th>\n",
       "      <td>W-3</td>\n",
       "      <td>Snow</td>\n",
       "      <td>Light</td>\n",
       "      <td>2016-01-07 05:54:00</td>\n",
       "      <td>2016-01-07 15:34:00</td>\n",
       "      <td>US/Mountain</td>\n",
       "      <td>K04V</td>\n",
       "      <td>38.0972</td>\n",
       "      <td>-106.1689</td>\n",
       "      <td>Saguache</td>\n",
       "      <td>Saguache</td>\n",
       "      <td>CO</td>\n",
       "      <td>81149.0</td>\n",
       "    </tr>\n",
       "    <tr>\n",
       "      <th>3</th>\n",
       "      <td>W-4</td>\n",
       "      <td>Snow</td>\n",
       "      <td>Light</td>\n",
       "      <td>2016-01-08 05:34:00</td>\n",
       "      <td>2016-01-08 05:54:00</td>\n",
       "      <td>US/Mountain</td>\n",
       "      <td>K04V</td>\n",
       "      <td>38.0972</td>\n",
       "      <td>-106.1689</td>\n",
       "      <td>Saguache</td>\n",
       "      <td>Saguache</td>\n",
       "      <td>CO</td>\n",
       "      <td>81149.0</td>\n",
       "    </tr>\n",
       "    <tr>\n",
       "      <th>4</th>\n",
       "      <td>W-5</td>\n",
       "      <td>Snow</td>\n",
       "      <td>Light</td>\n",
       "      <td>2016-01-08 13:54:00</td>\n",
       "      <td>2016-01-08 15:54:00</td>\n",
       "      <td>US/Mountain</td>\n",
       "      <td>K04V</td>\n",
       "      <td>38.0972</td>\n",
       "      <td>-106.1689</td>\n",
       "      <td>Saguache</td>\n",
       "      <td>Saguache</td>\n",
       "      <td>CO</td>\n",
       "      <td>81149.0</td>\n",
       "    </tr>\n",
       "  </tbody>\n",
       "</table>\n",
       "</div>"
      ],
      "text/plain": [
       "  EventId  Type Severity       StartTime(UTC)         EndTime(UTC)  \\\n",
       "0     W-1  Snow    Light  2016-01-06 23:14:00  2016-01-07 00:34:00   \n",
       "1     W-2  Snow    Light  2016-01-07 04:14:00  2016-01-07 04:54:00   \n",
       "2     W-3  Snow    Light  2016-01-07 05:54:00  2016-01-07 15:34:00   \n",
       "3     W-4  Snow    Light  2016-01-08 05:34:00  2016-01-08 05:54:00   \n",
       "4     W-5  Snow    Light  2016-01-08 13:54:00  2016-01-08 15:54:00   \n",
       "\n",
       "      TimeZone AirportCode  LocationLat  LocationLng      City    County  \\\n",
       "0  US/Mountain        K04V      38.0972    -106.1689  Saguache  Saguache   \n",
       "1  US/Mountain        K04V      38.0972    -106.1689  Saguache  Saguache   \n",
       "2  US/Mountain        K04V      38.0972    -106.1689  Saguache  Saguache   \n",
       "3  US/Mountain        K04V      38.0972    -106.1689  Saguache  Saguache   \n",
       "4  US/Mountain        K04V      38.0972    -106.1689  Saguache  Saguache   \n",
       "\n",
       "  State  ZipCode  \n",
       "0    CO  81149.0  \n",
       "1    CO  81149.0  \n",
       "2    CO  81149.0  \n",
       "3    CO  81149.0  \n",
       "4    CO  81149.0  "
      ]
     },
     "metadata": {},
     "execution_count": 3
    }
   ],
   "metadata": {}
  },
  {
   "cell_type": "code",
   "execution_count": 4,
   "source": [
    "len(weather)"
   ],
   "outputs": [
    {
     "output_type": "execute_result",
     "data": {
      "text/plain": [
       "6274206"
      ]
     },
     "metadata": {},
     "execution_count": 4
    }
   ],
   "metadata": {}
  },
  {
   "cell_type": "code",
   "execution_count": 5,
   "source": [
    "weather.info()"
   ],
   "outputs": [
    {
     "output_type": "stream",
     "name": "stdout",
     "text": [
      "<class 'pandas.core.frame.DataFrame'>\n",
      "RangeIndex: 6274206 entries, 0 to 6274205\n",
      "Data columns (total 13 columns):\n",
      " #   Column          Dtype  \n",
      "---  ------          -----  \n",
      " 0   EventId         object \n",
      " 1   Type            object \n",
      " 2   Severity        object \n",
      " 3   StartTime(UTC)  object \n",
      " 4   EndTime(UTC)    object \n",
      " 5   TimeZone        object \n",
      " 6   AirportCode     object \n",
      " 7   LocationLat     float64\n",
      " 8   LocationLng     float64\n",
      " 9   City            object \n",
      " 10  County          object \n",
      " 11  State           object \n",
      " 12  ZipCode         float64\n",
      "dtypes: float64(3), object(10)\n",
      "memory usage: 622.3+ MB\n"
     ]
    }
   ],
   "metadata": {}
  },
  {
   "cell_type": "code",
   "execution_count": 6,
   "source": [
    "weather['StartTime(UTC)'] = pd.to_datetime(weather['StartTime(UTC)'])\r\n",
    "weather['EndTime(UTC)'] = pd.to_datetime(weather['EndTime(UTC)'])\r\n",
    "weather.info()"
   ],
   "outputs": [
    {
     "output_type": "stream",
     "name": "stdout",
     "text": [
      "<class 'pandas.core.frame.DataFrame'>\n",
      "RangeIndex: 6274206 entries, 0 to 6274205\n",
      "Data columns (total 13 columns):\n",
      " #   Column          Dtype         \n",
      "---  ------          -----         \n",
      " 0   EventId         object        \n",
      " 1   Type            object        \n",
      " 2   Severity        object        \n",
      " 3   StartTime(UTC)  datetime64[ns]\n",
      " 4   EndTime(UTC)    datetime64[ns]\n",
      " 5   TimeZone        object        \n",
      " 6   AirportCode     object        \n",
      " 7   LocationLat     float64       \n",
      " 8   LocationLng     float64       \n",
      " 9   City            object        \n",
      " 10  County          object        \n",
      " 11  State           object        \n",
      " 12  ZipCode         float64       \n",
      "dtypes: datetime64[ns](2), float64(3), object(8)\n",
      "memory usage: 622.3+ MB\n"
     ]
    }
   ],
   "metadata": {}
  },
  {
   "cell_type": "code",
   "execution_count": 7,
   "source": [
    "start2020 = pd.to_datetime(\"2020-01-01\")\r\n",
    "weather = weather[weather['StartTime(UTC)'] >= start2020]"
   ],
   "outputs": [],
   "metadata": {}
  },
  {
   "cell_type": "code",
   "execution_count": 8,
   "source": [
    "weather.head()"
   ],
   "outputs": [
    {
     "output_type": "execute_result",
     "data": {
      "text/html": [
       "<div>\n",
       "<style scoped>\n",
       "    .dataframe tbody tr th:only-of-type {\n",
       "        vertical-align: middle;\n",
       "    }\n",
       "\n",
       "    .dataframe tbody tr th {\n",
       "        vertical-align: top;\n",
       "    }\n",
       "\n",
       "    .dataframe thead th {\n",
       "        text-align: right;\n",
       "    }\n",
       "</style>\n",
       "<table border=\"1\" class=\"dataframe\">\n",
       "  <thead>\n",
       "    <tr style=\"text-align: right;\">\n",
       "      <th></th>\n",
       "      <th>EventId</th>\n",
       "      <th>Type</th>\n",
       "      <th>Severity</th>\n",
       "      <th>StartTime(UTC)</th>\n",
       "      <th>EndTime(UTC)</th>\n",
       "      <th>TimeZone</th>\n",
       "      <th>AirportCode</th>\n",
       "      <th>LocationLat</th>\n",
       "      <th>LocationLng</th>\n",
       "      <th>City</th>\n",
       "      <th>County</th>\n",
       "      <th>State</th>\n",
       "      <th>ZipCode</th>\n",
       "    </tr>\n",
       "  </thead>\n",
       "  <tbody>\n",
       "    <tr>\n",
       "      <th>1721</th>\n",
       "      <td>W-1722</td>\n",
       "      <td>Snow</td>\n",
       "      <td>Light</td>\n",
       "      <td>2020-01-01 19:30:00</td>\n",
       "      <td>2020-01-01 22:12:00</td>\n",
       "      <td>US/Mountain</td>\n",
       "      <td>K04V</td>\n",
       "      <td>38.0972</td>\n",
       "      <td>-106.1689</td>\n",
       "      <td>Saguache</td>\n",
       "      <td>Saguache</td>\n",
       "      <td>CO</td>\n",
       "      <td>81149.0</td>\n",
       "    </tr>\n",
       "    <tr>\n",
       "      <th>1722</th>\n",
       "      <td>W-1723</td>\n",
       "      <td>Snow</td>\n",
       "      <td>Light</td>\n",
       "      <td>2020-01-02 00:32:00</td>\n",
       "      <td>2020-01-02 00:50:00</td>\n",
       "      <td>US/Mountain</td>\n",
       "      <td>K04V</td>\n",
       "      <td>38.0972</td>\n",
       "      <td>-106.1689</td>\n",
       "      <td>Saguache</td>\n",
       "      <td>Saguache</td>\n",
       "      <td>CO</td>\n",
       "      <td>81149.0</td>\n",
       "    </tr>\n",
       "    <tr>\n",
       "      <th>1723</th>\n",
       "      <td>W-1724</td>\n",
       "      <td>Snow</td>\n",
       "      <td>Light</td>\n",
       "      <td>2020-01-02 01:12:00</td>\n",
       "      <td>2020-01-02 01:30:00</td>\n",
       "      <td>US/Mountain</td>\n",
       "      <td>K04V</td>\n",
       "      <td>38.0972</td>\n",
       "      <td>-106.1689</td>\n",
       "      <td>Saguache</td>\n",
       "      <td>Saguache</td>\n",
       "      <td>CO</td>\n",
       "      <td>81149.0</td>\n",
       "    </tr>\n",
       "    <tr>\n",
       "      <th>1724</th>\n",
       "      <td>W-1725</td>\n",
       "      <td>Snow</td>\n",
       "      <td>Light</td>\n",
       "      <td>2020-01-02 04:12:00</td>\n",
       "      <td>2020-01-02 04:30:00</td>\n",
       "      <td>US/Mountain</td>\n",
       "      <td>K04V</td>\n",
       "      <td>38.0972</td>\n",
       "      <td>-106.1689</td>\n",
       "      <td>Saguache</td>\n",
       "      <td>Saguache</td>\n",
       "      <td>CO</td>\n",
       "      <td>81149.0</td>\n",
       "    </tr>\n",
       "    <tr>\n",
       "      <th>1725</th>\n",
       "      <td>W-1726</td>\n",
       "      <td>Snow</td>\n",
       "      <td>Light</td>\n",
       "      <td>2020-01-02 05:30:00</td>\n",
       "      <td>2020-01-02 06:12:00</td>\n",
       "      <td>US/Mountain</td>\n",
       "      <td>K04V</td>\n",
       "      <td>38.0972</td>\n",
       "      <td>-106.1689</td>\n",
       "      <td>Saguache</td>\n",
       "      <td>Saguache</td>\n",
       "      <td>CO</td>\n",
       "      <td>81149.0</td>\n",
       "    </tr>\n",
       "  </tbody>\n",
       "</table>\n",
       "</div>"
      ],
      "text/plain": [
       "     EventId  Type Severity      StartTime(UTC)        EndTime(UTC)  \\\n",
       "1721  W-1722  Snow    Light 2020-01-01 19:30:00 2020-01-01 22:12:00   \n",
       "1722  W-1723  Snow    Light 2020-01-02 00:32:00 2020-01-02 00:50:00   \n",
       "1723  W-1724  Snow    Light 2020-01-02 01:12:00 2020-01-02 01:30:00   \n",
       "1724  W-1725  Snow    Light 2020-01-02 04:12:00 2020-01-02 04:30:00   \n",
       "1725  W-1726  Snow    Light 2020-01-02 05:30:00 2020-01-02 06:12:00   \n",
       "\n",
       "         TimeZone AirportCode  LocationLat  LocationLng      City    County  \\\n",
       "1721  US/Mountain        K04V      38.0972    -106.1689  Saguache  Saguache   \n",
       "1722  US/Mountain        K04V      38.0972    -106.1689  Saguache  Saguache   \n",
       "1723  US/Mountain        K04V      38.0972    -106.1689  Saguache  Saguache   \n",
       "1724  US/Mountain        K04V      38.0972    -106.1689  Saguache  Saguache   \n",
       "1725  US/Mountain        K04V      38.0972    -106.1689  Saguache  Saguache   \n",
       "\n",
       "     State  ZipCode  \n",
       "1721    CO  81149.0  \n",
       "1722    CO  81149.0  \n",
       "1723    CO  81149.0  \n",
       "1724    CO  81149.0  \n",
       "1725    CO  81149.0  "
      ]
     },
     "metadata": {},
     "execution_count": 8
    }
   ],
   "metadata": {}
  },
  {
   "cell_type": "code",
   "execution_count": 9,
   "source": [
    "weather.reset_index(drop=True, inplace=True)\r\n",
    "weather.drop(columns=['EventId', 'EndTime(UTC)', 'AirportCode', 'LocationLat', 'LocationLng', 'County', 'ZipCode'], inplace=True)\r\n",
    "weather.rename(columns={\"StartTime(UTC)\":\"Date\"}, inplace=True)\r\n",
    "# remove the hour:minute:second from Date column\r\n",
    "weather['Date'] = weather['Date'].map(lambda r: r.date())"
   ],
   "outputs": [],
   "metadata": {}
  },
  {
   "cell_type": "code",
   "execution_count": 19,
   "source": [
    "print(weather.head())\r\n",
    "print(len(weather))"
   ],
   "outputs": [
    {
     "output_type": "stream",
     "name": "stdout",
     "text": [
      "   Type Severity        Date     TimeZone      City State\n",
      "0  Snow    Light  2020-01-01  US/Mountain  Saguache    CO\n",
      "1  Snow    Light  2020-01-02  US/Mountain  Saguache    CO\n",
      "2  Snow    Light  2020-01-02  US/Mountain  Saguache    CO\n",
      "3  Snow    Light  2020-01-02  US/Mountain  Saguache    CO\n",
      "4  Snow    Light  2020-01-02  US/Mountain  Saguache    CO\n",
      "1214221\n"
     ]
    }
   ],
   "metadata": {}
  },
  {
   "cell_type": "code",
   "execution_count": 26,
   "source": [
    "# randomly select some record, we only need approximately 5k record for this project\r\n",
    "simplerW = weather.sample(n=10000)\r\n",
    "a = simplerW['Type'].unique()\r\n",
    "print(len(a))\r\n",
    "b = simplerW[['City', 'State']].drop_duplicates()\r\n",
    "print(len(b))\r\n",
    "c = simplerW[['Date', 'Severity', 'Type', 'City', 'State']].drop_duplicates()\r\n",
    "print(len(c))"
   ],
   "outputs": [
    {
     "output_type": "stream",
     "name": "stdout",
     "text": [
      "7\n",
      "1792\n",
      "9876\n"
     ]
    }
   ],
   "metadata": {}
  },
  {
   "cell_type": "code",
   "execution_count": 98,
   "source": [
    "# WeatherType table\r\n",
    "d1 = simplerW['Type'].unique()\r\n",
    "p1 = pd.DataFrame(d1, columns=['TypeName'])\r\n",
    "p1.insert(0, 'TypeId', range(1, len(d1) + 1))\r\n",
    "p1.reset_index(drop=True, inplace=True)\r\n",
    "\r\n",
    "print(p1)\r\n",
    "p1.to_csv('WeatherType.csv', index=False, header=False)"
   ],
   "outputs": [
    {
     "output_type": "stream",
     "name": "stdout",
     "text": [
      "   TypeId       TypeName\n",
      "0       1           Rain\n",
      "1       2            Fog\n",
      "2       3           Cold\n",
      "3       4           Snow\n",
      "4       5          Storm\n",
      "5       6  Precipitation\n",
      "6       7           Hail\n"
     ]
    }
   ],
   "metadata": {}
  },
  {
   "cell_type": "code",
   "execution_count": 99,
   "source": [
    "# Location table\r\n",
    "d2 = simplerW[['City', 'State']].drop_duplicates()\r\n",
    "\r\n",
    "## remove invalide rows. Any cell having empty string is consider invalid\r\n",
    "d2['City'].replace('', np.nan, inplace=True)\r\n",
    "d2['State'].replace('', np.nan, inplace=True)\r\n",
    "d2.dropna(subset=['City', 'State'], inplace=True)\r\n",
    "\r\n",
    "d2.insert(0, 'LocationId', range(1, len(d2) + 1))\r\n",
    "d2.reset_index(drop=True, inplace=True)\r\n",
    "\r\n",
    "print(d2.head())\r\n",
    "d2.to_csv('Location.csv', index=False, header=False)"
   ],
   "outputs": [
    {
     "output_type": "stream",
     "name": "stdout",
     "text": [
      "   LocationId           City State\n",
      "0           1     Statesboro    GA\n",
      "1           2           Alva    OK\n",
      "2           3        Brumley    MO\n",
      "3           4  New Braunfels    TX\n",
      "4           5      Blue Bell    PA\n"
     ]
    }
   ],
   "metadata": {}
  },
  {
   "cell_type": "code",
   "execution_count": 125,
   "source": [
    "d3 = simplerW[['Date', 'Severity', 'Type', 'City', 'State']].drop_duplicates()\r\n",
    "d3.insert(0, 'EventId', range(1, len(d3) + 1))\r\n",
    "d3.reset_index(drop=True, inplace=True)\r\n",
    "d3.insert(1, 'LocationId', np.nan)\r\n",
    "d3.insert(1, 'WeatherTypeId', np.nan)\r\n",
    "\r\n",
    "## replace Type, City, State with WeatherTypeId and LocationId\r\n",
    "for index, row in d3.iterrows():\r\n",
    "    try:\r\n",
    "        d3.at[index, 'WeatherTypeId'] = p1[p1['TypeName'] == row['Type']].iloc[0]['TypeId']\r\n",
    "        d3.at[index, 'LocationId'] = d2[d2['City'] == row['City']].iloc[0]['LocationId']\r\n",
    "    except IndexError:\r\n",
    "        pass\r\n",
    "\r\n",
    "## remove unnecessary column\r\n",
    "d3.drop(['Type', 'City', 'State'], axis=1, inplace=True)\r\n",
    "\r\n",
    "## remove invalid rows\r\n",
    "d3.dropna(subset=['WeatherTypeId', 'LocationId'], inplace=True)\r\n",
    "\r\n",
    "## convert column to correct type\r\n",
    "d3['WeatherTypeId'] = pd.to_numeric(d3['WeatherTypeId'], downcast='unsigned')\r\n",
    "d3['LocationId'] = pd.to_numeric(d3['LocationId'], downcast='unsigned')\r\n",
    "\r\n",
    "print(d3.head())\r\n",
    "d3.to_csv('Event.csv', index=False, header=False)"
   ],
   "outputs": [
    {
     "output_type": "stream",
     "name": "stdout",
     "text": [
      "   EventId  WeatherTypeId  LocationId        Date Severity\n",
      "0        1              1           1  2020-06-15    Light\n",
      "1        2              2           2  2020-10-12   Severe\n",
      "2        3              1           3  2020-06-27    Light\n",
      "3        4              2           4  2020-03-08   Severe\n",
      "4        5              1           5  2020-04-15    Light\n"
     ]
    }
   ],
   "metadata": {}
  },
  {
   "cell_type": "code",
   "execution_count": 127,
   "source": [
    "userNumber = 1001"
   ],
   "outputs": [],
   "metadata": {}
  },
  {
   "cell_type": "code",
   "execution_count": 128,
   "source": [
    "# UserProfile \r\n",
    "x = [['Team 24', -5, 0]] # Name, Timezone, LocationId\r\n",
    "letters = string.ascii_letters\r\n",
    "\r\n",
    "## randomly generate data\r\n",
    "for i in range(1, userNumber):\r\n",
    "    name = ''.join(random.choice(letters) for i in range(6))\r\n",
    "    timezone = random.randint(-11, 12) # based on UTC\r\n",
    "    locationId = random.randrange(len(d2))\r\n",
    "    x.append([name, timezone, locationId])\r\n",
    "\r\n",
    "d4 = pd.DataFrame(x, columns=['Name', 'Timezone', 'LocationId'])\r\n",
    "d4.insert(0, 'UserId', range(1, userNumber + 1))\r\n",
    "print(d4.head())\r\n",
    "d4.to_csv('UserProfile.csv', index=False, header=False)"
   ],
   "outputs": [
    {
     "output_type": "stream",
     "name": "stdout",
     "text": [
      "   UserId     Name  Timezone  LocationId\n",
      "0       1  Team 24        -5           0\n",
      "1       2   jmsmOo         4         238\n",
      "2       3   LYdnIQ         0         316\n",
      "3       4   rWcasP        11         578\n",
      "4       5   SBSOaR         2        1107\n"
     ]
    }
   ],
   "metadata": {}
  },
  {
   "cell_type": "code",
   "execution_count": 129,
   "source": [
    "# UserCredential table\r\n",
    "y = [['root','root']] # username, password\r\n",
    "letters = string.ascii_lowercase\r\n",
    "\r\n",
    "## randomly generate data\r\n",
    "for i in range(1, userNumber):\r\n",
    "    username = ''.join(random.choice(letters) for i in range(6))\r\n",
    "    password = ''.join(random.choice(letters) for i in range(8))\r\n",
    "    y.append([username, password])\r\n",
    "\r\n",
    "d5 = pd.DataFrame(y, columns=['UserName', 'Password'])\r\n",
    "d5.insert(0, 'UserId', range(1, userNumber + 1))\r\n",
    "\r\n",
    "print(d5.head())\r\n",
    "d5.to_csv('UserCredential.csv', index=False, header=False)"
   ],
   "outputs": [
    {
     "output_type": "stream",
     "name": "stdout",
     "text": [
      "   UserId UserName  Password\n",
      "0       1     root      root\n",
      "1       2   lncvof  qqrernof\n",
      "2       3   uzooru  gnhxsmph\n",
      "3       4   iwxslr  pxhvmixt\n",
      "4       5   dtftgf  rewtzkdr\n"
     ]
    }
   ],
   "metadata": {}
  },
  {
   "cell_type": "code",
   "execution_count": 131,
   "source": [
    "# UserSearchHistory\r\n",
    "z = []\r\n",
    "\r\n",
    "## randomly generate date\r\n",
    "startDate = datetime.date(2020, 1, 1)\r\n",
    "endDate = datetime.date(2021, 10, 14)\r\n",
    "\r\n",
    "days_between_dates = (endDate - startDate).days\r\n",
    "\r\n",
    "for i in range(1,2000):\r\n",
    "    randomUser = random.randrange(1, userNumber + 1)\r\n",
    "    randomEvent = random.randrange(1, len(d3) + 1)\r\n",
    "    randomDate = startDate + datetime.timedelta(days=random.randrange(days_between_dates))\r\n",
    "    z.append([randomUser, randomEvent, randomDate])\r\n",
    "\r\n",
    "d6 = pd.DataFrame(z, columns=['UserId', 'EventId', 'SearchedDate'])\r\n",
    "\r\n",
    "print(d6.head())\r\n",
    "d6.to_csv('UserSearchHistory.csv', index=False, header=False)"
   ],
   "outputs": [
    {
     "output_type": "stream",
     "name": "stdout",
     "text": [
      "   UserId  EventId SearchedDate\n",
      "0     785     2953   2020-04-08\n",
      "1     830     5386   2020-09-10\n",
      "2     862     9226   2020-05-02\n",
      "3     661     9724   2021-08-12\n",
      "4     887     2261   2021-02-14\n"
     ]
    }
   ],
   "metadata": {}
  },
  {
   "cell_type": "code",
   "execution_count": null,
   "source": [],
   "outputs": [],
   "metadata": {}
  }
 ],
 "metadata": {
  "orig_nbformat": 4,
  "language_info": {
   "name": "python",
   "version": "3.8.12",
   "mimetype": "text/x-python",
   "codemirror_mode": {
    "name": "ipython",
    "version": 3
   },
   "pygments_lexer": "ipython3",
   "nbconvert_exporter": "python",
   "file_extension": ".py"
  },
  "kernelspec": {
   "name": "python3",
   "display_name": "Python 3.8.12 64-bit ('cs411': conda)"
  },
  "interpreter": {
   "hash": "7dc0073c73606a7da651c1652e7084d9b8df1a8242b459825665422be6922311"
  }
 },
 "nbformat": 4,
 "nbformat_minor": 2
}